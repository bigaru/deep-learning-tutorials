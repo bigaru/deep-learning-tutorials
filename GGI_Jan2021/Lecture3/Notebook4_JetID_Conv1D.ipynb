{
 "cells": [
  {
   "cell_type": "markdown",
   "metadata": {},
   "source": [
    "# Training a Jet Tagging with **Recurrent Neural Network** \n",
    "\n",
    "---\n",
    "In this notebook, we perform a Jet identification task using a multiclass classifier with a network based on Conv1D and Conv2D layers.\n",
    "\n",
    "The problem consists in identifying a given jet as a quark, a gluon, a W, a Z, or a top,\n",
    "based on a jet sequence, i.e. a list of particles. Foe each particle, the four-momentum coordinates are given as features.\n",
    "For details on the physics problem, see https://arxiv.org/pdf/1804.06913.pdf and https://arxiv.org/pdf/1908.05318.pdf.\n",
    "\n",
    "For details on the dataset, see Notebook1\n",
    "\n",
    "---"
   ]
  },
  {
   "cell_type": "code",
   "execution_count": 1,
   "metadata": {},
   "outputs": [],
   "source": [
    "import os\n",
    "import h5py\n",
    "import glob\n",
    "import numpy as np\n",
    "import matplotlib.pyplot as plt"
   ]
  },
  {
   "cell_type": "code",
   "execution_count": 2,
   "metadata": {},
   "outputs": [],
   "source": [
    "%matplotlib inline"
   ]
  },
  {
   "cell_type": "markdown",
   "metadata": {},
   "source": [
    "# Preparation of the training and validation samples\n",
    "\n",
    "---\n",
    "In order to import the dataset, we now\n",
    "- clone the dataset repository (to import the data in Colab)\n",
    "- load the h5 files in the data/ repository\n",
    "- extract the data we need: a target and jetImage \n",
    "\n",
    "To type shell commands, we start the command line with !"
   ]
  },
  {
   "cell_type": "code",
   "execution_count": 3,
   "metadata": {},
   "outputs": [
    {
     "name": "stdout",
     "output_type": "stream",
     "text": [
      "Cloning into 'tutorials'...\n",
      "remote: Enumerating objects: 312, done.\u001b[K\n",
      "remote: Counting objects: 100% (312/312), done.\u001b[K\n",
      "remote: Compressing objects: 100% (253/253), done.\u001b[K\n",
      "^Cceiving objects:  13% (58/442), 13.68 MiB | 479.00 KiB/s    \n"
     ]
    }
   ],
   "source": [
    "! git clone https://github.com/pierinim/tutorials.git\n",
    "inputDir = \"tutorials/Data/JetDataset\"\n",
    "! ls tutorials/Data/JetDataset/"
   ]
  },
  {
   "cell_type": "code",
   "execution_count": 10,
   "metadata": {},
   "outputs": [
    {
     "name": "stdout",
     "output_type": "stream",
     "text": [
      "jetImage_7_100p_0_10000.h5     jetImage_7_100p_50000_60000.h5\r\n",
      "jetImage_7_100p_10000_20000.h5 jetImage_7_100p_60000_70000.h5\r\n",
      "jetImage_7_100p_30000_40000.h5 jetImage_7_100p_70000_80000.h5\r\n",
      "jetImage_7_100p_40000_50000.h5 jetImage_7_100p_80000_90000.h5\r\n"
     ]
    }
   ],
   "source": [
    "# if not running on Colab\n",
    "!ls ../../Data/JetDataset/\n",
    "inputDir = \"../../Data/JetDataset/\""
   ]
  },
  {
   "cell_type": "code",
   "execution_count": 18,
   "metadata": {},
   "outputs": [
    {
     "name": "stdout",
     "output_type": "stream",
     "text": [
      "Appending ../../Data/JetDataset//jetImage_7_100p_30000_40000.h5\n",
      "Appending ../../Data/JetDataset//jetImage_7_100p_60000_70000.h5\n",
      "Appending ../../Data/JetDataset//jetImage_7_100p_50000_60000.h5\n",
      "Appending ../../Data/JetDataset//jetImage_7_100p_10000_20000.h5\n",
      "Appending ../../Data/JetDataset//jetImage_7_100p_0_10000.h5\n",
      "(50000, 5) (50000, 100, 16)\n",
      "[b'j1_px' b'j1_py' b'j1_pz' b'j1_e' b'j1_erel' b'j1_pt' b'j1_ptrel'\n",
      " b'j1_eta' b'j1_etarel' b'j1_etarot' b'j1_phi' b'j1_phirel' b'j1_phirot'\n",
      " b'j1_deltaR' b'j1_costheta' b'j1_costhetarel' b'j1_pdgid']\n"
     ]
    }
   ],
   "source": [
    "target = np.array([])\n",
    "jetList = np.array([])\n",
    "# we cannot load all data on Colab. So we just take a few files\n",
    "datafiles = ['%s/jetImage_7_100p_30000_40000.h5' %inputDir,\n",
    "           '%s/jetImage_7_100p_60000_70000.h5' %inputDir,\n",
    "            '%s/jetImage_7_100p_50000_60000.h5' %inputDir,\n",
    "            '%s/jetImage_7_100p_10000_20000.h5' %inputDir,\n",
    "            '%s/jetImage_7_100p_0_10000.h5' %inputDir]\n",
    "# if you are running locallt, you can use the full dataset doing\n",
    "# for fileIN in glob.glob(\"tutorials/HiggsSchool/data/*h5\"):\n",
    "for fileIN in datafiles:\n",
    "    print(\"Appending %s\" %fileIN)\n",
    "    f = h5py.File(fileIN)\n",
    "    myJetList = np.array(f.get(\"jetConstituentList\"))\n",
    "    mytarget = np.array(f.get('jets')[0:,-6:-1])\n",
    "    jetList = np.concatenate([jetList, myJetList], axis=0) if jetList.size else myJetList\n",
    "    target = np.concatenate([target, mytarget], axis=0) if target.size else mytarget\n",
    "    del myJetList, mytarget\n",
    "print(target.shape, jetList.shape)\n",
    "print(f.get(\"particleFeatureNames\")[:])"
   ]
  },
  {
   "cell_type": "markdown",
   "metadata": {},
   "source": [
    "The dataset consists of 50000 with up to 100 particles in each jet.  For each particle, 16 features are given (see printout)\n",
    "\n",
    "---\n",
    "\n",
    "We now shuffle the data, splitting them into a training and a validation dataset with 2:1 ratio"
   ]
  },
  {
   "cell_type": "code",
   "execution_count": 19,
   "metadata": {},
   "outputs": [
    {
     "name": "stdout",
     "output_type": "stream",
     "text": [
      "(33500, 100, 16) (16500, 100, 16) (33500, 5) (16500, 5)\n"
     ]
    }
   ],
   "source": [
    "from sklearn.model_selection import train_test_split\n",
    "X_train, X_val, y_train, y_val = train_test_split(jetList, target, test_size=0.33)\n",
    "print(X_train.shape, X_val.shape, y_train.shape, y_val.shape)\n",
    "del jetList, target"
   ]
  },
  {
   "cell_type": "code",
   "execution_count": 24,
   "metadata": {},
   "outputs": [],
   "source": [
    "# reshape to include channel\n",
    "X_train = X_train.reshape((X_train.shape[0], X_train.shape[1], X_train.shape[2], 1))\n",
    "X_val = X_val.reshape((X_val.shape[0], X_val.shape[1], X_val.shape[2], 1))"
   ]
  },
  {
   "cell_type": "markdown",
   "metadata": {},
   "source": [
    "# Building the Conv1D model\n",
    "\n",
    "The model consists of a first step (technically a Conv2D, but practically a Conv1D) that takes the 16 per-particle features as input and create 10 outputs. This gives 10 chains of 100 elements, which are then processed by Conv1D filters."
   ]
  },
  {
   "cell_type": "code",
   "execution_count": 64,
   "metadata": {},
   "outputs": [],
   "source": [
    "# keras imports\n",
    "from keras.models import Model\n",
    "from keras.layers import Dense, Input, Conv1D, Conv2D, AveragePooling2D, AveragePooling1D, Reshape, Flatten\n",
    "from keras.utils import plot_model\n",
    "from keras import backend as K\n",
    "from keras import metrics\n",
    "from keras.callbacks import EarlyStopping, ReduceLROnPlateau, TerminateOnNaN"
   ]
  },
  {
   "cell_type": "code",
   "execution_count": 65,
   "metadata": {},
   "outputs": [],
   "source": [
    "featureArrayLength = (X_train.shape[1],X_train.shape[2], 1)\n",
    "dropoutRate = 0.25"
   ]
  },
  {
   "cell_type": "code",
   "execution_count": 66,
   "metadata": {},
   "outputs": [],
   "source": [
    "####\n",
    "inputList = Input(shape=(featureArrayLength))\n",
    "x = Conv2D(10, kernel_size=(1,16), data_format=\"channels_last\", strides=(1, 1), padding=\"same\")(inputList)\n",
    "x = AveragePooling2D(pool_size=(1,16))(x)\n",
    "x = Reshape((100,10))(x)\n",
    "x = Conv1D(10, kernel_size=5, data_format=\"channels_last\", strides=1, padding=\"same\")(x)\n",
    "x = AveragePooling1D(pool_size=2)(x)\n",
    "#\n",
    "x = Conv1D(10, kernel_size=5, data_format=\"channels_last\", strides=1, padding=\"same\")(x)\n",
    "x = AveragePooling1D(pool_size=2)(x)\n",
    "#\n",
    "x = Conv1D(10, kernel_size=5, data_format=\"channels_last\", strides=1, padding=\"same\")(x)\n",
    "x = AveragePooling1D(pool_size=2)(x)\n",
    "#\n",
    "x = Conv1D(10, kernel_size=5, data_format=\"channels_last\", strides=1, padding=\"same\")(x)\n",
    "x = AveragePooling1D(pool_size=2)(x)\n",
    "#\n",
    "x = Flatten()(x)\n",
    "output = Dense(5, activation='softmax')(x)\n",
    "####\n",
    "model = Model(inputs=inputList, outputs=output)"
   ]
  },
  {
   "cell_type": "code",
   "execution_count": 67,
   "metadata": {},
   "outputs": [
    {
     "name": "stdout",
     "output_type": "stream",
     "text": [
      "_________________________________________________________________\n",
      "Layer (type)                 Output Shape              Param #   \n",
      "=================================================================\n",
      "input_21 (InputLayer)        (None, 100, 16, 1)        0         \n",
      "_________________________________________________________________\n",
      "conv2d_20 (Conv2D)           (None, 100, 16, 10)       170       \n",
      "_________________________________________________________________\n",
      "average_pooling2d_13 (Averag (None, 100, 1, 10)        0         \n",
      "_________________________________________________________________\n",
      "reshape_10 (Reshape)         (None, 100, 10)           0         \n",
      "_________________________________________________________________\n",
      "conv1d_15 (Conv1D)           (None, 100, 10)           510       \n",
      "_________________________________________________________________\n",
      "average_pooling1d_11 (Averag (None, 50, 10)            0         \n",
      "_________________________________________________________________\n",
      "conv1d_16 (Conv1D)           (None, 50, 10)            510       \n",
      "_________________________________________________________________\n",
      "average_pooling1d_12 (Averag (None, 25, 10)            0         \n",
      "_________________________________________________________________\n",
      "conv1d_17 (Conv1D)           (None, 25, 10)            510       \n",
      "_________________________________________________________________\n",
      "average_pooling1d_13 (Averag (None, 12, 10)            0         \n",
      "_________________________________________________________________\n",
      "conv1d_18 (Conv1D)           (None, 12, 10)            510       \n",
      "_________________________________________________________________\n",
      "average_pooling1d_14 (Averag (None, 6, 10)             0         \n",
      "_________________________________________________________________\n",
      "flatten_1 (Flatten)          (None, 60)                0         \n",
      "_________________________________________________________________\n",
      "dense_14 (Dense)             (None, 5)                 305       \n",
      "=================================================================\n",
      "Total params: 2,515\n",
      "Trainable params: 2,515\n",
      "Non-trainable params: 0\n",
      "_________________________________________________________________\n"
     ]
    }
   ],
   "source": [
    "model.compile(loss='categorical_crossentropy', optimizer='adam')\n",
    "model.summary()"
   ]
  },
  {
   "cell_type": "markdown",
   "metadata": {},
   "source": [
    "We now train the model"
   ]
  },
  {
   "cell_type": "code",
   "execution_count": 68,
   "metadata": {},
   "outputs": [],
   "source": [
    "batch_size = 128\n",
    "n_epochs = 50"
   ]
  },
  {
   "cell_type": "code",
   "execution_count": 69,
   "metadata": {},
   "outputs": [
    {
     "name": "stderr",
     "output_type": "stream",
     "text": [
      "W0926 18:29:08.884556 4754154944 deprecation.py:323] From /usr/local/lib/python3.7/site-packages/tensorflow/python/ops/math_grad.py:1250: add_dispatch_support.<locals>.wrapper (from tensorflow.python.ops.array_ops) is deprecated and will be removed in a future version.\n",
      "Instructions for updating:\n",
      "Use tf.where in 2.0, which has the same broadcast rule as np.where\n",
      "W0926 18:29:09.000013 4754154944 deprecation_wrapper.py:119] From /usr/local/lib/python3.7/site-packages/keras/backend/tensorflow_backend.py:986: The name tf.assign_add is deprecated. Please use tf.compat.v1.assign_add instead.\n",
      "\n"
     ]
    },
    {
     "name": "stdout",
     "output_type": "stream",
     "text": [
      "Train on 33500 samples, validate on 16500 samples\n",
      "Epoch 1/50\n",
      " - 11s - loss: 1.4502 - val_loss: 1.4037\n",
      "Epoch 2/50\n",
      " - 10s - loss: 1.3868 - val_loss: 1.3757\n",
      "Epoch 3/50\n",
      " - 10s - loss: 1.3635 - val_loss: 1.3438\n",
      "Epoch 4/50\n",
      " - 11s - loss: 1.3466 - val_loss: 1.3337\n",
      "Epoch 5/50\n",
      " - 9s - loss: 1.3367 - val_loss: 1.3315\n",
      "Epoch 6/50\n",
      " - 10s - loss: 1.3348 - val_loss: 1.3282\n",
      "Epoch 7/50\n",
      " - 9s - loss: 1.3321 - val_loss: 1.3297\n",
      "Epoch 8/50\n",
      " - 10s - loss: 1.3317 - val_loss: 1.3262\n",
      "Epoch 9/50\n",
      " - 10s - loss: 1.3303 - val_loss: 1.3328\n",
      "Epoch 10/50\n",
      " - 10s - loss: 1.3288 - val_loss: 1.3324\n",
      "\n",
      "Epoch 00010: ReduceLROnPlateau reducing learning rate to 0.00010000000474974513.\n",
      "Epoch 11/50\n",
      " - 10s - loss: 1.3161 - val_loss: 1.3231\n",
      "Epoch 12/50\n",
      " - 10s - loss: 1.3152 - val_loss: 1.3225\n",
      "Epoch 13/50\n",
      " - 9s - loss: 1.3145 - val_loss: 1.3228\n",
      "Epoch 14/50\n",
      " - 9s - loss: 1.3142 - val_loss: 1.3221\n",
      "Epoch 15/50\n",
      " - 10s - loss: 1.3137 - val_loss: 1.3204\n",
      "Epoch 16/50\n",
      " - 10s - loss: 1.3140 - val_loss: 1.3207\n",
      "Epoch 17/50\n",
      " - 10s - loss: 1.3139 - val_loss: 1.3208\n",
      "\n",
      "Epoch 00017: ReduceLROnPlateau reducing learning rate to 1.0000000474974514e-05.\n",
      "Epoch 18/50\n",
      " - 10s - loss: 1.3121 - val_loss: 1.3194\n",
      "Epoch 19/50\n",
      " - 10s - loss: 1.3120 - val_loss: 1.3193\n",
      "Epoch 20/50\n",
      " - 10s - loss: 1.3120 - val_loss: 1.3194\n",
      "\n",
      "Epoch 00020: ReduceLROnPlateau reducing learning rate to 1.0000000656873453e-06.\n",
      "Epoch 21/50\n",
      " - 10s - loss: 1.3117 - val_loss: 1.3193\n",
      "Epoch 22/50\n",
      " - 9s - loss: 1.3117 - val_loss: 1.3193\n",
      "\n",
      "Epoch 00022: ReduceLROnPlateau reducing learning rate to 1.0000001111620805e-07.\n",
      "Epoch 23/50\n",
      " - 9s - loss: 1.3117 - val_loss: 1.3193\n",
      "Epoch 24/50\n",
      " - 10s - loss: 1.3117 - val_loss: 1.3193\n",
      "\n",
      "Epoch 00024: ReduceLROnPlateau reducing learning rate to 1.000000082740371e-08.\n",
      "Epoch 25/50\n",
      " - 9s - loss: 1.3117 - val_loss: 1.3193\n",
      "Epoch 26/50\n",
      " - 10s - loss: 1.3117 - val_loss: 1.3193\n",
      "\n",
      "Epoch 00026: ReduceLROnPlateau reducing learning rate to 1.000000082740371e-09.\n",
      "Epoch 27/50\n",
      " - 10s - loss: 1.3117 - val_loss: 1.3193\n",
      "Epoch 28/50\n",
      " - 9s - loss: 1.3117 - val_loss: 1.3193\n",
      "\n",
      "Epoch 00028: ReduceLROnPlateau reducing learning rate to 1.000000082740371e-10.\n",
      "Epoch 29/50\n",
      " - 9s - loss: 1.3117 - val_loss: 1.3193\n",
      "Epoch 30/50\n",
      " - 10s - loss: 1.3117 - val_loss: 1.3193\n",
      "\n",
      "Epoch 00030: ReduceLROnPlateau reducing learning rate to 1.000000082740371e-11.\n",
      "Epoch 31/50\n",
      " - 10s - loss: 1.3117 - val_loss: 1.3193\n",
      "Epoch 32/50\n",
      " - 11s - loss: 1.3117 - val_loss: 1.3193\n",
      "\n",
      "Epoch 00032: ReduceLROnPlateau reducing learning rate to 1.000000082740371e-12.\n",
      "Epoch 33/50\n",
      " - 10s - loss: 1.3117 - val_loss: 1.3193\n",
      "Epoch 34/50\n",
      " - 10s - loss: 1.3117 - val_loss: 1.3193\n",
      "\n",
      "Epoch 00034: ReduceLROnPlateau reducing learning rate to 1.0000001044244145e-13.\n",
      "Epoch 35/50\n",
      " - 10s - loss: 1.3117 - val_loss: 1.3193\n",
      "Epoch 36/50\n",
      " - 10s - loss: 1.3117 - val_loss: 1.3193\n",
      "\n",
      "Epoch 00036: ReduceLROnPlateau reducing learning rate to 1.0000001179769417e-14.\n",
      "Epoch 37/50\n",
      " - 10s - loss: 1.3117 - val_loss: 1.3193\n",
      "Epoch 38/50\n",
      " - 9s - loss: 1.3117 - val_loss: 1.3193\n",
      "\n",
      "Epoch 00038: ReduceLROnPlateau reducing learning rate to 1.0000001518582595e-15.\n",
      "Epoch 39/50\n",
      " - 10s - loss: 1.3117 - val_loss: 1.3193\n",
      "Epoch 00039: early stopping\n"
     ]
    }
   ],
   "source": [
    "# train \n",
    "history = model.fit(X_train, y_train, epochs=n_epochs, batch_size=batch_size, verbose = 2,\n",
    "                validation_data=(X_val, y_val),\n",
    "                callbacks = [\n",
    "                EarlyStopping(monitor='val_loss', patience=10, verbose=1),\n",
    "                ReduceLROnPlateau(monitor='val_loss', factor=0.1, patience=2, verbose=1),\n",
    "                TerminateOnNaN()])"
   ]
  },
  {
   "cell_type": "code",
   "execution_count": 70,
   "metadata": {},
   "outputs": [
    {
     "data": {
      "image/png": "[encoded data removed]",
      "text/plain": [
       "<Figure size 432x288 with 1 Axes>"
      ]
     },
     "metadata": {
      "needs_background": "light"
     },
     "output_type": "display_data"
    }
   ],
   "source": [
    "# plot training history\n",
    "plt.plot(history.history['loss'])\n",
    "plt.plot(history.history['val_loss'])\n",
    "plt.yscale('log')\n",
    "plt.title('Training History')\n",
    "plt.ylabel('loss')\n",
    "plt.xlabel('epoch')\n",
    "plt.legend(['training', 'validation'], loc='upper right')\n",
    "plt.show()"
   ]
  },
  {
   "cell_type": "markdown",
   "metadata": {},
   "source": [
    "# Building the ROC Curves"
   ]
  },
  {
   "cell_type": "code",
   "execution_count": 71,
   "metadata": {},
   "outputs": [],
   "source": [
    "labels = ['gluon', 'quark', 'W', 'Z', 'top']"
   ]
  },
  {
   "cell_type": "code",
   "execution_count": 72,
   "metadata": {},
   "outputs": [
    {
     "data": {
      "image/png": "[encoded data removed]",
      "text/plain": [
       "<Figure size 432x288 with 1 Axes>"
      ]
     },
     "metadata": {
      "needs_background": "light"
     },
     "output_type": "display_data"
    }
   ],
   "source": [
    "import pandas as pd\n",
    "from sklearn.metrics import roc_curve, auc\n",
    "predict_val = model.predict(X_val)\n",
    "df = pd.DataFrame()\n",
    "fpr = {}\n",
    "tpr = {}\n",
    "auc1 = {}\n",
    "\n",
    "plt.figure()\n",
    "for i, label in enumerate(labels):\n",
    "        df[label] = y_val[:,i]\n",
    "        df[label + '_pred'] = predict_val[:,i]\n",
    "\n",
    "        fpr[label], tpr[label], threshold = roc_curve(df[label],df[label+'_pred'])\n",
    "\n",
    "        auc1[label] = auc(fpr[label], tpr[label])\n",
    "\n",
    "        plt.plot(tpr[label],fpr[label],label='%s tagger, auc = %.1f%%'%(label,auc1[label]*100.))\n",
    "plt.semilogy()\n",
    "plt.xlabel(\"sig. efficiency\")\n",
    "plt.ylabel(\"bkg. mistag rate\")\n",
    "plt.ylim(0.000001,1)\n",
    "plt.grid(True)\n",
    "plt.legend(loc='lower right')\n",
    "plt.show()"
   ]
  },
  {
   "cell_type": "code",
   "execution_count": null,
   "metadata": {},
   "outputs": [],
   "source": []
  }
 ],
 "metadata": {
  "kernelspec": {
   "display_name": "Python 3",
   "language": "python",
   "name": "python3"
  },
  "language_info": {
   "codemirror_mode": {
    "name": "ipython",
    "version": 3
   },
   "file_extension": ".py",
   "mimetype": "text/x-python",
   "name": "python",
   "nbconvert_exporter": "python",
   "pygments_lexer": "ipython3",
   "version": "3.7.3"
  }
 },
 "nbformat": 4,
 "nbformat_minor": 2
}
