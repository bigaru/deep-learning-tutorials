{
 "cells": [
  {
   "cell_type": "markdown",
   "metadata": {},
   "source": [
    "# Training an Anomalous Jet Detector with **VAE** \n",
    "\n",
    "---\n",
    "In this notebook, we train an unsupervised algorithm capable of compressing a jet features into a low-dimension laten space and, from there, reconstruct the input data. The distance between the input and the output is used to identify rare jets. Applying a lower treshold on the loss, one can veto standard QCD jets (quarks and gluons) and select a sample enriched in anomalous jets (W, Z, top, etc). \n",
    "\n",
    "---"
   ]
  },
  {
   "cell_type": "code",
   "execution_count": 3,
   "metadata": {},
   "outputs": [],
   "source": [
    "import os\n",
    "import h5py\n",
    "import glob\n",
    "import numpy as np\n",
    "import matplotlib.pyplot as plt"
   ]
  },
  {
   "cell_type": "code",
   "execution_count": 4,
   "metadata": {},
   "outputs": [],
   "source": [
    "%matplotlib inline"
   ]
  },
  {
   "cell_type": "markdown",
   "metadata": {},
   "source": [
    "# Preparation of the training and validation samples\n",
    "\n",
    "---\n",
    "In order to import the dataset, we now\n",
    "- clone the dataset repository (to import the data in Colab)\n",
    "- load the h5 files in the data/ repository\n",
    "- extract the data we need: a target and jetImage \n",
    "\n",
    "To type shell commands, we start the command line with !"
   ]
  },
  {
   "cell_type": "code",
   "execution_count": 5,
   "metadata": {},
   "outputs": [
    {
     "name": "stdout",
     "output_type": "stream",
     "text": [
      "fatal: destination path 'tutorials' already exists and is not an empty directory.\r\n"
     ]
    }
   ],
   "source": [
    "! git clone https://github.com/pierinim/tutorials.git"
   ]
  },
  {
   "cell_type": "code",
   "execution_count": 6,
   "metadata": {},
   "outputs": [
    {
     "name": "stdout",
     "output_type": "stream",
     "text": [
      "jetImage_7_100p_0_10000.h5     jetImage_7_100p_50000_60000.h5\r\n",
      "jetImage_7_100p_10000_20000.h5 jetImage_7_100p_60000_70000.h5\r\n",
      "jetImage_7_100p_30000_40000.h5 jetImage_7_100p_70000_80000.h5\r\n",
      "jetImage_7_100p_40000_50000.h5 jetImage_7_100p_80000_90000.h5\r\n"
     ]
    }
   ],
   "source": [
    "! ls tutorials/Data/JetDataset/"
   ]
  },
  {
   "cell_type": "code",
   "execution_count": 7,
   "metadata": {},
   "outputs": [
    {
     "name": "stdout",
     "output_type": "stream",
     "text": [
      "Appending tutorials/Data/JetDataset/jetImage_7_100p_30000_40000.h5\n",
      "Appending tutorials/Data/JetDataset/jetImage_7_100p_60000_70000.h5\n",
      "Appending tutorials/Data/JetDataset/jetImage_7_100p_50000_60000.h5\n",
      "Appending tutorials/Data/JetDataset/jetImage_7_100p_10000_20000.h5\n",
      "Appending tutorials/Data/JetDataset/jetImage_7_100p_0_10000.h5\n",
      "(50000, 5) (50000, 16)\n"
     ]
    }
   ],
   "source": [
    "target = np.array([])\n",
    "features = np.array([])\n",
    "# we cannot load all data on Colab. So we just take a few files\n",
    "datafiles = ['tutorials/Data/JetDataset/jetImage_7_100p_30000_40000.h5',\n",
    "           'tutorials/Data/JetDataset/jetImage_7_100p_60000_70000.h5',\n",
    "            'tutorials/Data/JetDataset/jetImage_7_100p_50000_60000.h5',\n",
    "            'tutorials/Data/JetDataset/jetImage_7_100p_10000_20000.h5',\n",
    "            'tutorials/Data/JetDataset/jetImage_7_100p_0_10000.h5']\n",
    "# if you are running locallt, you can use the full dataset doing\n",
    "# for fileIN in glob.glob(\"tutorials/HiggsSchool/data/*h5\"):\n",
    "for fileIN in datafiles:\n",
    "    print(\"Appending %s\" %fileIN)\n",
    "    f = h5py.File(fileIN)\n",
    "    myFeatures = np.array(f.get(\"jets\")[:,[12, 34, 35, 36, 37, 38, 39, 40, 41, 42, 43, 44, 45, 46, 48, 52]], dtype=np.float32)\n",
    "    mytarget = np.array(f.get('jets')[0:,-6:-1])\n",
    "    features = np.concatenate([features, myFeatures], axis=0) if features.size else myFeatures\n",
    "    target = np.concatenate([target, mytarget], axis=0) if target.size else mytarget\n",
    "    f.close()\n",
    "print(target.shape, features.shape)"
   ]
  },
  {
   "cell_type": "code",
   "execution_count": 8,
   "metadata": {},
   "outputs": [
    {
     "name": "stdout",
     "output_type": "stream",
     "text": [
      "0.089908905 0.001333433\n",
      "3.77655e-09 1.0\n"
     ]
    }
   ],
   "source": [
    "# we standardize the data, so that the mean is = 0 and rms = 1 \n",
    "from sklearn.preprocessing import StandardScaler\n",
    "print(np.mean(features[:,10]), np.var(features[:,10]))\n",
    "scaler = StandardScaler()\n",
    "scaler.fit(features)\n",
    "features = scaler.transform(features)\n",
    "print(np.mean(features[:,10]), np.var(features[:,10]))"
   ]
  },
  {
   "cell_type": "markdown",
   "metadata": {},
   "source": [
    "We now separate the dataset in 4:\n",
    "- a training dataset, consisting of quarks and gluons\n",
    "- three 'anomalous jets' samples: W, Z, and top"
   ]
  },
  {
   "cell_type": "code",
   "execution_count": 9,
   "metadata": {},
   "outputs": [
    {
     "name": "stdout",
     "output_type": "stream",
     "text": [
      "(19908, 16) (10015, 16) (10037, 16) (10040, 16)\n"
     ]
    }
   ],
   "source": [
    "features_standard = features[np.argmax(target,axis=1)<2]\n",
    "features_W = features[np.argmax(target,axis=1)==2]\n",
    "features_Z = features[np.argmax(target,axis=1)==3]\n",
    "features_t = features[np.argmax(target,axis=1)==4]\n",
    "print(features_standard.shape, features_W.shape, features_Z.shape, features_t.shape)"
   ]
  },
  {
   "cell_type": "markdown",
   "metadata": {},
   "source": [
    "Notice that this is an unsupervised algorithm, so we don't need the target array anymore.\n",
    "Nevertheless, we keep a part of it around, since it might be useful to test the response \n",
    "of the algorithm to quarks and gluons separetly"
   ]
  },
  {
   "cell_type": "code",
   "execution_count": 10,
   "metadata": {},
   "outputs": [],
   "source": [
    "label_standard = target[np.argmax(target,axis=1)<2]"
   ]
  },
  {
   "cell_type": "markdown",
   "metadata": {},
   "source": [
    "We now shuffle the standard-jet data and its labels, splitting them into a training, a validation+test dataset with 2:1:1 ratio. \n",
    "\n",
    "Then we separate the validation+test in two halves (training and validation)"
   ]
  },
  {
   "cell_type": "code",
   "execution_count": 11,
   "metadata": {},
   "outputs": [
    {
     "name": "stdout",
     "output_type": "stream",
     "text": [
      "(15926, 16) (3982, 16) (15926, 5) (3982, 5)\n",
      "(12740, 16) (3186, 16) (12740, 5) (3186, 5) (3982, 5)\n"
     ]
    }
   ],
   "source": [
    "from sklearn.model_selection import train_test_split\n",
    "X_learn, X_test, label_learn, label_test = train_test_split(features_standard, label_standard, test_size=0.2)\n",
    "print(X_learn.shape, X_test.shape, label_learn.shape, label_test.shape)\n",
    "X_train, X_val, label_train, label_val = train_test_split(X_learn, label_learn, test_size=0.2)\n",
    "print(X_train.shape, X_val.shape, label_train.shape, label_val.shape, label_test.shape)\n",
    "del features_standard, label_standard, features, target, X_learn, label_learn"
   ]
  },
  {
   "cell_type": "markdown",
   "metadata": {},
   "source": [
    "# Building the VAE model"
   ]
  },
  {
   "cell_type": "code",
   "execution_count": 19,
   "metadata": {},
   "outputs": [],
   "source": [
    "# keras imports\n",
    "from tensorflow.keras.models import Model\n",
    "from tensorflow.keras.layers import Dense, Input, Lambda, Layer\n",
    "from tensorflow.keras.layers import BatchNormalization, Activation\n",
    "from tensorflow.keras.utils import plot_model\n",
    "from tensorflow.keras.optimizers import Adam\n",
    "from tensorflow.keras import backend as K\n",
    "from tensorflow.keras import metrics\n",
    "from tensorflow.keras.callbacks import EarlyStopping, ReduceLROnPlateau, TerminateOnNaN"
   ]
  },
  {
   "cell_type": "code",
   "execution_count": 20,
   "metadata": {},
   "outputs": [],
   "source": [
    "def sample_z(args):\n",
    "    z_mean, z_log_var = args\n",
    "    batch = K.shape(z_mean)[0]\n",
    "    dim = K.int_shape(z_mean)[1]\n",
    "    eps = K.random_normal(shape=(batch, dim))\n",
    "    return z_mean + K.exp(z_log_var / 2) * eps"
   ]
  },
  {
   "cell_type": "markdown",
   "metadata": {},
   "source": [
    "Loss definition: The first block of code is just the reconstruction error which is given by the cross-entropy. The second block of code calculates the KL-divergence analytically and adds it to the loss function with the line self.add_loss. It represents the KL-divergence as just another layer in the neural network with the inputs equal to the outputs (means and variances in latent space)"
   ]
  },
  {
   "cell_type": "code",
   "execution_count": 30,
   "metadata": {},
   "outputs": [],
   "source": [
    "from tensorflow.keras import backend as K\n",
    "\n",
    "# Define loss\n",
    "def myloss(y_true, y_pred):\n",
    "    # mse\n",
    "    sum_sq = (y_true-y_pred)*(y_true-y_pred)\n",
    "    return K.sum(sum_sq, axis=-1)\n",
    "\n",
    "class KLDivergenceLayer(Layer):\n",
    "\n",
    "    \"\"\" Identity transform layer that adds KL divergence\n",
    "    to the final model loss.\n",
    "    \"\"\"\n",
    "\n",
    "    def __init__(self, *args, **kwargs):\n",
    "        self.is_placeholder = True\n",
    "        super(KLDivergenceLayer, self).__init__(*args, **kwargs)\n",
    "\n",
    "    def call(self, inputs):\n",
    "        mu, log_var = inputs\n",
    "        kl_batch = - .5 * K.sum(1 + log_var -\n",
    "                                K.square(mu) -\n",
    "                                K.exp(log_var), axis=-1)\n",
    "        self.add_loss(K.mean(kl_batch), inputs=inputs)\n",
    "        return inputs"
   ]
  },
  {
   "cell_type": "code",
   "execution_count": 31,
   "metadata": {},
   "outputs": [],
   "source": [
    "def vae(input_dim, latent_dim, beta):\n",
    "    #encoder\n",
    "    input_encoder = Input(shape=(input_dim), name='encoder_input')\n",
    "    x = Dense(10, activation='elu')(input_encoder)\n",
    "    z_mu = Dense(latent_dim, name='latent_mu')(x)\n",
    "    z_log_var = Dense(latent_dim, name='latent_logvar')(x)\n",
    "    z_mu, z_log_var = KLDivergenceLayer()([z_mu, z_log_var])\n",
    "    \n",
    "    z = Lambda(sample_z, output_shape=(latent_dim, ), name='z')([z_mu, z_log_var])\n",
    "    encoder = Model(inputs=input_encoder, outputs=[z_mu, z_log_var, z], name='encoder')\n",
    "    encoder.summary()\n",
    "    \n",
    "    #decoder\n",
    "    input_decoder = Input(shape=(latent_dim,), name='decoder_input')\n",
    "    x = Dense(10, activation='elu')(input_decoder)\n",
    "    dec = Dense(input_dim, activation='linear')(x)    \n",
    "    decoder = Model(inputs=input_decoder, outputs=dec, name='decoder_CNN')\n",
    "    decoder.summary()\n",
    " \n",
    "    #vae\n",
    "    vae_outputs = decoder(encoder(input_encoder)[2])\n",
    "    vae = Model(input_encoder, vae_outputs, name='vae')\n",
    "    vae.summary()\n",
    "    \n",
    "    return vae, encoder"
   ]
  },
  {
   "cell_type": "code",
   "execution_count": 32,
   "metadata": {},
   "outputs": [
    {
     "name": "stdout",
     "output_type": "stream",
     "text": [
      "Model: \"encoder\"\n",
      "__________________________________________________________________________________________________\n",
      "Layer (type)                    Output Shape         Param #     Connected to                     \n",
      "==================================================================================================\n",
      "encoder_input (InputLayer)      [(None, 16)]         0                                            \n",
      "__________________________________________________________________________________________________\n",
      "dense_7 (Dense)                 (None, 10)           170         encoder_input[0][0]              \n",
      "__________________________________________________________________________________________________\n",
      "latent_mu (Dense)               (None, 5)            55          dense_7[0][0]                    \n",
      "__________________________________________________________________________________________________\n",
      "latent_logvar (Dense)           (None, 5)            55          dense_7[0][0]                    \n",
      "__________________________________________________________________________________________________\n",
      "kl_divergence_layer_2 (KLDiverg [(None, 5), (None, 5 0           latent_mu[0][0]                  \n",
      "                                                                 latent_logvar[0][0]              \n",
      "__________________________________________________________________________________________________\n",
      "z (Lambda)                      (None, 5)            0           kl_divergence_layer_2[0][0]      \n",
      "                                                                 kl_divergence_layer_2[0][1]      \n",
      "==================================================================================================\n",
      "Total params: 280\n",
      "Trainable params: 280\n",
      "Non-trainable params: 0\n",
      "__________________________________________________________________________________________________\n",
      "Model: \"decoder_CNN\"\n",
      "_________________________________________________________________\n",
      "Layer (type)                 Output Shape              Param #   \n",
      "=================================================================\n",
      "decoder_input (InputLayer)   [(None, 5)]               0         \n",
      "_________________________________________________________________\n",
      "dense_8 (Dense)              (None, 10)                60        \n",
      "_________________________________________________________________\n",
      "dense_9 (Dense)              (None, 16)                176       \n",
      "=================================================================\n",
      "Total params: 236\n",
      "Trainable params: 236\n",
      "Non-trainable params: 0\n",
      "_________________________________________________________________\n",
      "Model: \"vae\"\n",
      "_________________________________________________________________\n",
      "Layer (type)                 Output Shape              Param #   \n",
      "=================================================================\n",
      "encoder_input (InputLayer)   [(None, 16)]              0         \n",
      "_________________________________________________________________\n",
      "encoder (Model)              [(None, 5), (None, 5), (N 280       \n",
      "_________________________________________________________________\n",
      "decoder_CNN (Model)          (None, 16)                236       \n",
      "=================================================================\n",
      "Total params: 516\n",
      "Trainable params: 516\n",
      "Non-trainable params: 0\n",
      "_________________________________________________________________\n"
     ]
    }
   ],
   "source": [
    "model, encoder = vae(16, 5, 1.0)"
   ]
  },
  {
   "cell_type": "code",
   "execution_count": 33,
   "metadata": {},
   "outputs": [],
   "source": [
    "model.compile(optimizer='adam', loss=myloss)"
   ]
  },
  {
   "cell_type": "code",
   "execution_count": 35,
   "metadata": {},
   "outputs": [
    {
     "name": "stdout",
     "output_type": "stream",
     "text": [
      "Train on 12740 samples, validate on 3186 samples\n",
      "Epoch 1/200\n",
      "12740/12740 - 1s - loss: 27.0930 - val_loss: 18.2738\n",
      "Epoch 2/200\n",
      "12740/12740 - 0s - loss: 15.8525 - val_loss: 14.5905\n",
      "Epoch 3/200\n",
      "12740/12740 - 0s - loss: 13.3491 - val_loss: 12.8403\n",
      "Epoch 4/200\n",
      "12740/12740 - 0s - loss: 12.0720 - val_loss: 11.9913\n",
      "Epoch 5/200\n",
      "12740/12740 - 0s - loss: 11.3914 - val_loss: 11.4090\n",
      "Epoch 6/200\n",
      "12740/12740 - 0s - loss: 10.9533 - val_loss: 10.9860\n",
      "Epoch 7/200\n",
      "12740/12740 - 0s - loss: 10.6227 - val_loss: 10.6753\n",
      "Epoch 8/200\n",
      "12740/12740 - 0s - loss: 10.2558 - val_loss: 10.1739\n",
      "Epoch 9/200\n",
      "12740/12740 - 0s - loss: 9.9604 - val_loss: 9.9321\n",
      "Epoch 10/200\n",
      "12740/12740 - 0s - loss: 9.8085 - val_loss: 9.7746\n",
      "Epoch 11/200\n",
      "12740/12740 - 0s - loss: 9.5620 - val_loss: 9.4936\n",
      "Epoch 12/200\n",
      "12740/12740 - 0s - loss: 9.3302 - val_loss: 9.3313\n",
      "Epoch 13/200\n",
      "12740/12740 - 0s - loss: 9.1767 - val_loss: 9.2108\n",
      "Epoch 14/200\n",
      "12740/12740 - 0s - loss: 9.0448 - val_loss: 9.0453\n",
      "Epoch 15/200\n",
      "12740/12740 - 0s - loss: 8.9484 - val_loss: 8.9901\n",
      "Epoch 16/200\n",
      "12740/12740 - 0s - loss: 8.8285 - val_loss: 8.9925\n",
      "Epoch 17/200\n",
      "12740/12740 - 0s - loss: 8.7440 - val_loss: 8.7584\n",
      "Epoch 18/200\n",
      "12740/12740 - 0s - loss: 8.6397 - val_loss: 8.6807\n",
      "Epoch 19/200\n",
      "12740/12740 - 0s - loss: 8.5669 - val_loss: 8.6621\n",
      "Epoch 20/200\n",
      "12740/12740 - 0s - loss: 8.5186 - val_loss: 8.5479\n",
      "Epoch 21/200\n",
      "12740/12740 - 0s - loss: 8.4278 - val_loss: 8.5856\n",
      "Epoch 22/200\n",
      "12740/12740 - 0s - loss: 8.3872 - val_loss: 8.4948\n",
      "Epoch 23/200\n",
      "12740/12740 - 0s - loss: 8.3581 - val_loss: 8.3972\n",
      "Epoch 24/200\n",
      "12740/12740 - 0s - loss: 8.3084 - val_loss: 8.3869\n",
      "Epoch 25/200\n",
      "12740/12740 - 0s - loss: 8.2786 - val_loss: 8.4087\n",
      "Epoch 26/200\n",
      "12740/12740 - 0s - loss: 8.2669 - val_loss: 8.3562\n",
      "Epoch 27/200\n",
      "12740/12740 - 0s - loss: 8.2459 - val_loss: 8.3071\n",
      "Epoch 28/200\n",
      "12740/12740 - 0s - loss: 8.2263 - val_loss: 8.2939\n",
      "Epoch 29/200\n",
      "12740/12740 - 0s - loss: 8.2351 - val_loss: 8.2772\n",
      "Epoch 30/200\n",
      "12740/12740 - 0s - loss: 8.1940 - val_loss: 8.2835\n",
      "Epoch 31/200\n",
      "\n",
      "Epoch 00031: ReduceLROnPlateau reducing learning rate to 0.00010000000474974513.\n",
      "12740/12740 - 0s - loss: 8.1916 - val_loss: 8.3209\n",
      "Epoch 32/200\n",
      "12740/12740 - 0s - loss: 8.1508 - val_loss: 8.2464\n",
      "Epoch 33/200\n",
      "12740/12740 - 0s - loss: 8.1342 - val_loss: 8.2632\n",
      "Epoch 34/200\n",
      "\n",
      "Epoch 00034: ReduceLROnPlateau reducing learning rate to 1.0000000474974514e-05.\n",
      "12740/12740 - 0s - loss: 8.1350 - val_loss: 8.2644\n",
      "Epoch 35/200\n",
      "12740/12740 - 0s - loss: 8.1304 - val_loss: 8.2484\n",
      "Epoch 36/200\n",
      "12740/12740 - 0s - loss: 8.1488 - val_loss: 8.2234\n",
      "Epoch 37/200\n",
      "12740/12740 - 0s - loss: 8.1398 - val_loss: 8.2229\n",
      "Epoch 38/200\n",
      "12740/12740 - 0s - loss: 8.1127 - val_loss: 8.2399\n",
      "Epoch 39/200\n",
      "\n",
      "Epoch 00039: ReduceLROnPlateau reducing learning rate to 1.0000000656873453e-06.\n",
      "12740/12740 - 0s - loss: 8.1108 - val_loss: 8.2434\n",
      "Epoch 40/200\n",
      "12740/12740 - 0s - loss: 8.1130 - val_loss: 8.1811\n",
      "Epoch 41/200\n",
      "12740/12740 - 0s - loss: 8.1343 - val_loss: 8.2523\n",
      "Epoch 42/200\n",
      "\n",
      "Epoch 00042: ReduceLROnPlateau reducing learning rate to 1.0000001111620805e-07.\n",
      "12740/12740 - 0s - loss: 8.1600 - val_loss: 8.2414\n",
      "Epoch 43/200\n",
      "12740/12740 - 0s - loss: 8.1232 - val_loss: 8.1761\n",
      "Epoch 44/200\n",
      "12740/12740 - 0s - loss: 8.1313 - val_loss: 8.2385\n",
      "Epoch 45/200\n",
      "\n",
      "Epoch 00045: ReduceLROnPlateau reducing learning rate to 1.000000082740371e-08.\n",
      "12740/12740 - 0s - loss: 8.1154 - val_loss: 8.2671\n",
      "Epoch 46/200\n",
      "12740/12740 - 0s - loss: 8.1133 - val_loss: 8.3265\n",
      "Epoch 47/200\n",
      "\n",
      "Epoch 00047: ReduceLROnPlateau reducing learning rate to 1.000000082740371e-09.\n",
      "12740/12740 - 0s - loss: 8.1919 - val_loss: 8.2534\n",
      "Epoch 48/200\n",
      "12740/12740 - 0s - loss: 8.1523 - val_loss: 8.2970\n",
      "Epoch 49/200\n",
      "\n",
      "Epoch 00049: ReduceLROnPlateau reducing learning rate to 1.000000082740371e-10.\n",
      "12740/12740 - 0s - loss: 8.1039 - val_loss: 8.2458\n",
      "Epoch 50/200\n",
      "12740/12740 - 0s - loss: 8.1210 - val_loss: 8.2804\n",
      "Epoch 51/200\n",
      "\n",
      "Epoch 00051: ReduceLROnPlateau reducing learning rate to 1.000000082740371e-11.\n",
      "12740/12740 - 0s - loss: 8.1485 - val_loss: 8.1937\n",
      "Epoch 52/200\n",
      "12740/12740 - 0s - loss: 8.1519 - val_loss: 8.2972\n",
      "Epoch 53/200\n",
      "\n",
      "Epoch 00053: ReduceLROnPlateau reducing learning rate to 1.000000082740371e-12.\n",
      "12740/12740 - 0s - loss: 8.1782 - val_loss: 8.2279\n",
      "Epoch 00053: early stopping\n"
     ]
    }
   ],
   "source": [
    "n_epochs = 200\n",
    "batch_size = 128\n",
    "# train \n",
    "history = model.fit(X_train, X_train, epochs=n_epochs, batch_size=batch_size, verbose = 2,\n",
    "                validation_data=(X_val, X_val),\n",
    "                callbacks = [\n",
    "                EarlyStopping(monitor='val_loss', patience=10, verbose=1),\n",
    "                ReduceLROnPlateau(monitor='val_loss', factor=0.1, patience=2, verbose=1),\n",
    "                TerminateOnNaN()])"
   ]
  },
  {
   "cell_type": "code",
   "execution_count": 37,
   "metadata": {},
   "outputs": [
    {
     "data": {
      "image/png": "[encoded data removed]",
      "text/plain": [
       "<Figure size 432x288 with 1 Axes>"
      ]
     },
     "metadata": {
      "needs_background": "light"
     },
     "output_type": "display_data"
    }
   ],
   "source": [
    "# plot training history\n",
    "plt.plot(history.history['loss'])\n",
    "plt.plot(history.history['val_loss'])\n",
    "plt.yscale('log')\n",
    "plt.title('Training History')\n",
    "plt.ylabel('loss')\n",
    "plt.xlabel('epoch')\n",
    "plt.legend(['training', 'validation'], loc='upper right')\n",
    "plt.show()"
   ]
  },
  {
   "cell_type": "markdown",
   "metadata": {},
   "source": [
    "# Loss Distributions"
   ]
  },
  {
   "cell_type": "code",
   "execution_count": 38,
   "metadata": {},
   "outputs": [],
   "source": [
    "labels = ['W', 'Z', 'top']"
   ]
  },
  {
   "cell_type": "code",
   "execution_count": 39,
   "metadata": {},
   "outputs": [],
   "source": [
    "anomaly = [features_W, features_Z, features_t]\n",
    "predictedQCD = model.predict(X_test)\n",
    "predicted_anomaly = []\n",
    "for i in range(len(labels)):\n",
    "    predicted_anomaly.append(model.predict(anomaly[i]))"
   ]
  },
  {
   "cell_type": "code",
   "execution_count": 40,
   "metadata": {},
   "outputs": [],
   "source": [
    "def mse(data_in, data_out):\n",
    "    mse = (data_out-data_in)*(data_out-data_in)\n",
    "    # sum over features\n",
    "    mse = mse.sum(-1)\n",
    "    return mse    "
   ]
  },
  {
   "cell_type": "code",
   "execution_count": 41,
   "metadata": {},
   "outputs": [],
   "source": [
    "lossQCD = mse(X_test, predictedQCD)\n",
    "loss_anomaly = []\n",
    "for i in range(len(labels)):\n",
    "    loss_anomaly.append(mse(anomaly[i], predicted_anomaly[i]))"
   ]
  },
  {
   "cell_type": "code",
   "execution_count": 42,
   "metadata": {},
   "outputs": [
    {
     "data": {
      "image/png": "[encoded data removed]",
      "text/plain": [
       "<Figure size 432x288 with 1 Axes>"
      ]
     },
     "metadata": {
      "needs_background": "light"
     },
     "output_type": "display_data"
    }
   ],
   "source": [
    "maxScore = np.max(lossQCD)\n",
    "# plot QCD\n",
    "plt.figure()\n",
    "plt.hist(lossQCD, bins=100, label='QCD', density=True, range=(0, maxScore), \n",
    "         histtype='step', fill=False, linewidth=1.5)\n",
    "plt.semilogy()\n",
    "plt.xlabel(\"AE Loss\")\n",
    "plt.ylabel(\"Probability (a.u.)\")\n",
    "plt.grid(True)\n",
    "plt.legend(loc='upper right')\n",
    "plt.show()"
   ]
  },
  {
   "cell_type": "code",
   "execution_count": 43,
   "metadata": {},
   "outputs": [
    {
     "data": {
      "image/png": "[encoded data removed]",
      "text/plain": [
       "<Figure size 432x288 with 1 Axes>"
      ]
     },
     "metadata": {
      "needs_background": "light"
     },
     "output_type": "display_data"
    }
   ],
   "source": [
    "maxScore = np.max(lossQCD)\n",
    "# plot QCD\n",
    "plt.figure()\n",
    "plt.hist(lossQCD, bins=100, label='QCD', density=True, range=(0, maxScore), \n",
    "         histtype='step', fill=False, linewidth=1.5)\n",
    "for i in range(len(labels)):\n",
    "    plt.hist(loss_anomaly[i], bins=100, label=labels[i], density=True, range=(0, maxScore),\n",
    "            histtype='step', fill=False, linewidth=1.5)\n",
    "plt.semilogy()\n",
    "plt.xlabel(\"AE Loss\")\n",
    "plt.ylabel(\"Probability (a.u.)\")\n",
    "plt.grid(True)\n",
    "plt.legend(loc='upper right')\n",
    "plt.show()"
   ]
  },
  {
   "cell_type": "markdown",
   "metadata": {},
   "source": [
    "# Building the ROC Curves"
   ]
  },
  {
   "cell_type": "code",
   "execution_count": 44,
   "metadata": {},
   "outputs": [
    {
     "name": "stdout",
     "output_type": "stream",
     "text": [
      "(10015,) (3982,)\n",
      "(13997,) (13997,)\n",
      "(10037,) (3982,)\n",
      "(14019,) (14019,)\n",
      "(10040,) (3982,)\n",
      "(14022,) (14022,)\n"
     ]
    },
    {
     "data": {
      "image/png": "[encoded data removed]",
      "text/plain": [
       "<Figure size 432x288 with 1 Axes>"
      ]
     },
     "metadata": {
      "needs_background": "light"
     },
     "output_type": "display_data"
    }
   ],
   "source": [
    "from sklearn.metrics import roc_curve, auc\n",
    "plt.figure()\n",
    "targetQCD = np.zeros(lossQCD.shape[0])\n",
    "for i, label in enumerate(labels):\n",
    "        print(loss_anomaly[i].shape, targetQCD.shape)\n",
    "        trueVal = np.concatenate((np.ones(loss_anomaly[i].shape[0]),targetQCD))\n",
    "        predVal = np.concatenate((loss_anomaly[i],lossQCD))\n",
    "        print(trueVal.shape, predVal.shape)\n",
    "        fpr, tpr, threshold = roc_curve(trueVal,predVal)\n",
    "        auc1= auc(fpr, tpr)\n",
    "        plt.plot(tpr,fpr,label='%s Anomaly Detection, auc = %.1f%%'%(label,auc1*100.))\n",
    "#plt.semilogy()\n",
    "plt.xlabel(\"sig. efficiency\")\n",
    "plt.ylabel(\"bkg. mistag rate\")\n",
    "plt.grid(True)\n",
    "plt.legend(loc='lower right')\n",
    "plt.show()"
   ]
  },
  {
   "cell_type": "code",
   "execution_count": null,
   "metadata": {},
   "outputs": [],
   "source": []
  }
 ],
 "metadata": {
  "kernelspec": {
   "display_name": "Python 3",
   "language": "python",
   "name": "python3"
  },
  "language_info": {
   "codemirror_mode": {
    "name": "ipython",
    "version": 3
   },
   "file_extension": ".py",
   "mimetype": "text/x-python",
   "name": "python",
   "nbconvert_exporter": "python",
   "pygments_lexer": "ipython3",
   "version": "3.7.3"
  }
 },
 "nbformat": 4,
 "nbformat_minor": 2
}
