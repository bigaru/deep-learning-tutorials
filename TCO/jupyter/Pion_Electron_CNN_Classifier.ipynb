{
 "cells": [
  {
   "cell_type": "code",
   "execution_count": 1,
   "id": "ffc84cd8",
   "metadata": {},
   "outputs": [],
   "source": [
    "import h5py\n",
    "import numpy as np"
   ]
  },
  {
   "cell_type": "code",
   "execution_count": 2,
   "id": "41b969b1",
   "metadata": {},
   "outputs": [],
   "source": [
    "pion = h5py.File(\"../dataset/ChPiEscan_1_1_DownSampled.h5\", \"r\")\n",
    "pion_ECAL = np.array(pion.get(\"ECAL\"))\n",
    "pion_HCAL = np.array(pion.get(\"HCAL\"))\n",
    "ele = h5py.File(\"../dataset/EleEscan_1_1_DownSampled.h5\", \"r\")\n",
    "ele_ECAL = np.array(ele.get(\"ECAL\"))\n",
    "ele_HCAL = np.array(ele.get(\"HCAL\"))"
   ]
  },
  {
   "cell_type": "code",
   "execution_count": 3,
   "id": "fb7688ff",
   "metadata": {},
   "outputs": [
    {
     "name": "stdout",
     "output_type": "stream",
     "text": [
      "(20000, 7, 7, 2) (20000,)\n"
     ]
    }
   ],
   "source": [
    "y_pion = np.zeros(pion_ECAL.shape[0])\n",
    "y_ele  = np.ones(ele_ECAL.shape[0])\n",
    "y = np.concatenate([y_pion,y_ele])\n",
    "#\n",
    "x_ECAL = np.concatenate([pion_ECAL, ele_ECAL],axis=0)\n",
    "x_ECAL = np.reshape(x_ECAL, (x_ECAL.shape[0], x_ECAL.shape[1], x_ECAL.shape[2],1))\n",
    "x_HCAL = np.concatenate([pion_HCAL, ele_HCAL],axis=0)\n",
    "x_HCAL = np.reshape(x_HCAL, (x_HCAL.shape[0], x_HCAL.shape[1], x_HCAL.shape[2],1))\n",
    "#Normalize energy between 0 and 1\n",
    "x_ECAL = x_ECAL/np.max(x_ECAL)\n",
    "x_HCAL = x_HCAL/np.max(x_HCAL)\n",
    "#\n",
    "x = np.concatenate([x_ECAL, x_HCAL], axis=-1)\n",
    "print(x.shape, y.shape)"
   ]
  },
  {
   "cell_type": "code",
   "execution_count": 4,
   "id": "70aa81a5",
   "metadata": {},
   "outputs": [
    {
     "name": "stdout",
     "output_type": "stream",
     "text": [
      "(13400, 7, 7, 2) (6600, 7, 7, 2) (13400,) (6600,)\n"
     ]
    }
   ],
   "source": [
    "from sklearn.model_selection import train_test_split\n",
    "X_train, X_val, y_train, y_val = train_test_split(x, y, test_size=0.33)\n",
    "print(X_train.shape, X_val.shape, y_train.shape, y_val.shape)"
   ]
  },
  {
   "cell_type": "code",
   "execution_count": 5,
   "id": "0b38e4fb",
   "metadata": {},
   "outputs": [],
   "source": [
    "# keras imports\n",
    "from tensorflow.keras.models import Model\n",
    "from tensorflow.keras.layers import Dense, Input, Conv2D, Dropout, Flatten\n",
    "from tensorflow.keras.layers import MaxPooling2D, AveragePooling2D, BatchNormalization, Activation\n",
    "from tensorflow.keras.utils import plot_model\n",
    "from tensorflow.keras import metrics\n",
    "from tensorflow.keras.callbacks import EarlyStopping, ReduceLROnPlateau, TerminateOnNaN"
   ]
  },
  {
   "cell_type": "code",
   "execution_count": 6,
   "id": "116f47c4",
   "metadata": {},
   "outputs": [],
   "source": [
    "img_rows = X_train.shape[1]\n",
    "img_cols = X_train.shape[2]\n",
    "dropoutRate = 0.25"
   ]
  },
  {
   "cell_type": "code",
   "execution_count": 7,
   "id": "fd8168ca",
   "metadata": {},
   "outputs": [
    {
     "name": "stderr",
     "output_type": "stream",
     "text": [
      "2022-04-11 15:21:05.898238: I tensorflow/compiler/jit/xla_cpu_device.cc:41] Not creating XLA devices, tf_xla_enable_xla_devices not set\n",
      "2022-04-11 15:21:05.900839: I tensorflow/core/platform/cpu_feature_guard.cc:142] This TensorFlow binary is optimized with oneAPI Deep Neural Network Library (oneDNN) to use the following CPU instructions in performance-critical operations:  AVX2 FMA\n",
      "To enable them in other operations, rebuild TensorFlow with the appropriate compiler flags.\n"
     ]
    }
   ],
   "source": [
    "image_shape = (7, 7, 2)\n",
    "####\n",
    "inputImage = Input(shape=(image_shape))\n",
    "x = Conv2D(3, kernel_size=(3,3), data_format=\"channels_last\", strides=(1, 1), padding=\"same\")(inputImage)\n",
    "x = BatchNormalization()(x)\n",
    "x = Activation('relu')(x)\n",
    "x = AveragePooling2D( pool_size = (3,3), strides=(2, 2))(x)\n",
    "#x = Dropout(dropoutRate)(x)\n",
    "#\n",
    "x = Conv2D(3, kernel_size=(3,3), data_format=\"channels_last\", strides=(1, 1), padding=\"same\")(x)\n",
    "x = BatchNormalization()(x)\n",
    "x = Activation('relu')(x)\n",
    "x = MaxPooling2D( pool_size = (2,2), strides=(1, 1))(x)\n",
    "#x = Dropout(dropoutRate)(x)\n",
    "#\n",
    "x = Flatten()(x)\n",
    "#\n",
    "x = Dense(6, activation='relu')(x)\n",
    "#\n",
    "output = Dense(1, activation='sigmoid')(x)\n",
    "####\n",
    "model = Model(inputs=inputImage, outputs=output)"
   ]
  },
  {
   "cell_type": "code",
   "execution_count": 8,
   "id": "e69c2b63",
   "metadata": {},
   "outputs": [
    {
     "name": "stdout",
     "output_type": "stream",
     "text": [
      "Model: \"model\"\n",
      "_________________________________________________________________\n",
      "Layer (type)                 Output Shape              Param #   \n",
      "=================================================================\n",
      "input_1 (InputLayer)         [(None, 7, 7, 2)]         0         \n",
      "_________________________________________________________________\n",
      "conv2d (Conv2D)              (None, 7, 7, 3)           57        \n",
      "_________________________________________________________________\n",
      "batch_normalization (BatchNo (None, 7, 7, 3)           12        \n",
      "_________________________________________________________________\n",
      "activation (Activation)      (None, 7, 7, 3)           0         \n",
      "_________________________________________________________________\n",
      "average_pooling2d (AveragePo (None, 3, 3, 3)           0         \n",
      "_________________________________________________________________\n",
      "conv2d_1 (Conv2D)            (None, 3, 3, 3)           84        \n",
      "_________________________________________________________________\n",
      "batch_normalization_1 (Batch (None, 3, 3, 3)           12        \n",
      "_________________________________________________________________\n",
      "activation_1 (Activation)    (None, 3, 3, 3)           0         \n",
      "_________________________________________________________________\n",
      "max_pooling2d (MaxPooling2D) (None, 2, 2, 3)           0         \n",
      "_________________________________________________________________\n",
      "flatten (Flatten)            (None, 12)                0         \n",
      "_________________________________________________________________\n",
      "dense (Dense)                (None, 6)                 78        \n",
      "_________________________________________________________________\n",
      "dense_1 (Dense)              (None, 1)                 7         \n",
      "=================================================================\n",
      "Total params: 250\n",
      "Trainable params: 238\n",
      "Non-trainable params: 12\n",
      "_________________________________________________________________\n"
     ]
    }
   ],
   "source": [
    "model.compile(loss='binary_crossentropy', optimizer='adam')\n",
    "model.summary()"
   ]
  },
  {
   "cell_type": "code",
   "execution_count": 9,
   "id": "e55e3eda",
   "metadata": {},
   "outputs": [],
   "source": [
    "model.save('model.h5')"
   ]
  },
  {
   "cell_type": "code",
   "execution_count": 114,
   "id": "f88f71b5",
   "metadata": {},
   "outputs": [
    {
     "name": "stdout",
     "output_type": "stream",
     "text": [
      "Epoch 1/100\n",
      "105/105 - 2s - loss: 0.5030 - val_loss: 0.6640\n",
      "Epoch 2/100\n",
      "105/105 - 1s - loss: 0.2102 - val_loss: 0.5696\n",
      "Epoch 3/100\n",
      "105/105 - 1s - loss: 0.1217 - val_loss: 0.4104\n",
      "Epoch 4/100\n",
      "105/105 - 1s - loss: 0.0892 - val_loss: 0.2988\n",
      "Epoch 5/100\n",
      "105/105 - 1s - loss: 0.0731 - val_loss: 0.2331\n",
      "Epoch 6/100\n",
      "105/105 - 1s - loss: 0.0627 - val_loss: 0.1846\n",
      "Epoch 7/100\n",
      "105/105 - 1s - loss: 0.0553 - val_loss: 0.1939\n",
      "Epoch 8/100\n",
      "105/105 - 1s - loss: 0.0491 - val_loss: 0.1250\n",
      "Epoch 9/100\n",
      "105/105 - 1s - loss: 0.0461 - val_loss: 0.2950\n",
      "Epoch 10/100\n",
      "105/105 - 1s - loss: 0.0429 - val_loss: 0.1335\n",
      "\n",
      "Epoch 00010: ReduceLROnPlateau reducing learning rate to 0.00010000000474974513.\n",
      "Epoch 11/100\n",
      "105/105 - 1s - loss: 0.0410 - val_loss: 0.0600\n",
      "Epoch 12/100\n",
      "105/105 - 1s - loss: 0.0393 - val_loss: 0.0533\n",
      "Epoch 13/100\n",
      "105/105 - 1s - loss: 0.0397 - val_loss: 0.0432\n",
      "Epoch 14/100\n",
      "105/105 - 1s - loss: 0.0390 - val_loss: 0.0417\n",
      "Epoch 15/100\n",
      "105/105 - 1s - loss: 0.0388 - val_loss: 0.0544\n",
      "Epoch 16/100\n",
      "105/105 - 1s - loss: 0.0386 - val_loss: 0.0526\n",
      "\n",
      "Epoch 00016: ReduceLROnPlateau reducing learning rate to 1.0000000474974514e-05.\n",
      "Epoch 17/100\n",
      "105/105 - 1s - loss: 0.0390 - val_loss: 0.0409\n",
      "Epoch 18/100\n",
      "105/105 - 1s - loss: 0.0384 - val_loss: 0.0403\n",
      "Epoch 19/100\n",
      "105/105 - 1s - loss: 0.0382 - val_loss: 0.0402\n",
      "Epoch 20/100\n",
      "105/105 - 1s - loss: 0.0381 - val_loss: 0.0401\n",
      "Epoch 21/100\n",
      "105/105 - 1s - loss: 0.0379 - val_loss: 0.0400\n",
      "Epoch 22/100\n",
      "105/105 - 1s - loss: 0.0389 - val_loss: 0.0401\n",
      "\n",
      "Epoch 00022: ReduceLROnPlateau reducing learning rate to 1.0000000656873453e-06.\n",
      "Epoch 23/100\n",
      "105/105 - 1s - loss: 0.0380 - val_loss: 0.0399\n",
      "Epoch 24/100\n",
      "105/105 - 1s - loss: 0.0379 - val_loss: 0.0399\n",
      "Epoch 25/100\n",
      "105/105 - 1s - loss: 0.0379 - val_loss: 0.0399\n",
      "\n",
      "Epoch 00025: ReduceLROnPlateau reducing learning rate to 1.0000001111620805e-07.\n",
      "Epoch 26/100\n",
      "105/105 - 1s - loss: 0.0378 - val_loss: 0.0399\n",
      "Epoch 27/100\n",
      "105/105 - 1s - loss: 0.0379 - val_loss: 0.0399\n",
      "\n",
      "Epoch 00027: ReduceLROnPlateau reducing learning rate to 1.000000082740371e-08.\n",
      "Epoch 28/100\n",
      "105/105 - 1s - loss: 0.0375 - val_loss: 0.0399\n",
      "Epoch 29/100\n",
      "105/105 - 1s - loss: 0.0383 - val_loss: 0.0399\n",
      "\n",
      "Epoch 00029: ReduceLROnPlateau reducing learning rate to 1.000000082740371e-09.\n",
      "Epoch 30/100\n",
      "105/105 - 1s - loss: 0.0381 - val_loss: 0.0399\n",
      "Epoch 31/100\n",
      "105/105 - 1s - loss: 0.0376 - val_loss: 0.0399\n",
      "\n",
      "Epoch 00031: ReduceLROnPlateau reducing learning rate to 1.000000082740371e-10.\n",
      "Epoch 32/100\n",
      "105/105 - 1s - loss: 0.0382 - val_loss: 0.0399\n",
      "Epoch 33/100\n",
      "105/105 - 1s - loss: 0.0376 - val_loss: 0.0399\n",
      "\n",
      "Epoch 00033: ReduceLROnPlateau reducing learning rate to 1.000000082740371e-11.\n",
      "Epoch 34/100\n",
      "105/105 - 1s - loss: 0.0384 - val_loss: 0.0399\n",
      "Epoch 35/100\n",
      "105/105 - 1s - loss: 0.0374 - val_loss: 0.0399\n",
      "\n",
      "Epoch 00035: ReduceLROnPlateau reducing learning rate to 1.000000082740371e-12.\n",
      "Epoch 00035: early stopping\n"
     ]
    }
   ],
   "source": [
    "batch_size = 128\n",
    "n_epochs = 100\n",
    "# train \n",
    "history = model.fit(X_train, y_train, epochs=n_epochs, batch_size=batch_size, verbose = 2,\n",
    "                validation_data=(X_val, y_val),\n",
    "                callbacks = [\n",
    "                EarlyStopping(monitor='val_loss', patience=10, verbose=1),\n",
    "                ReduceLROnPlateau(monitor='val_loss', factor=0.1, patience=2, verbose=1),\n",
    "                TerminateOnNaN()])"
   ]
  },
  {
   "cell_type": "code",
   "execution_count": 115,
   "id": "2cb0a09b",
   "metadata": {},
   "outputs": [],
   "source": [
    "import matplotlib.pyplot as plt\n",
    "%matplotlib inline"
   ]
  },
  {
   "cell_type": "code",
   "execution_count": 116,
   "id": "7afd7b3c",
   "metadata": {},
   "outputs": [
    {
     "data": {
      "image/png": "[encoded data removed]",
      "text/plain": [
       "<Figure size 432x288 with 1 Axes>"
      ]
     },
     "metadata": {
      "needs_background": "light"
     },
     "output_type": "display_data"
    }
   ],
   "source": [
    "# plot training history\n",
    "plt.plot(history.history['loss'])\n",
    "plt.plot(history.history['val_loss'])\n",
    "#plt.yscale('log')\n",
    "plt.title('Training History')\n",
    "plt.ylabel('loss')\n",
    "plt.xlabel('epoch')\n",
    "plt.legend(['training', 'validation'], loc='upper right')\n",
    "plt.show()"
   ]
  },
  {
   "cell_type": "code",
   "execution_count": 117,
   "id": "53a717b1",
   "metadata": {},
   "outputs": [
    {
     "name": "stderr",
     "output_type": "stream",
     "text": [
      "/Users/maurizio/anaconda3/envs/py3/lib/python3.7/site-packages/ipykernel_launcher.py:6: RuntimeWarning: divide by zero encountered in true_divide\n",
      "  \n"
     ]
    },
    {
     "data": {
      "image/png": "[encoded data removed]",
      "text/plain": [
       "<Figure size 432x288 with 1 Axes>"
      ]
     },
     "metadata": {
      "needs_background": "light"
     },
     "output_type": "display_data"
    }
   ],
   "source": [
    "from sklearn.metrics import roc_curve, auc\n",
    "predict_val = model.predict(X_val)\n",
    "plt.figure()\n",
    "fpr, tpr, threshold = roc_curve(y_val, predict_val)\n",
    "my_auc = auc(fpr, tpr)\n",
    "plt.plot(tpr,1./fpr,label='Ele vs Pion identification, auc = %.2f%%'%(my_auc*100.))\n",
    "plt.semilogy()\n",
    "plt.xlabel(\"True Positive Rate\")\n",
    "plt.ylabel(\"1/False Positive Rate\")\n",
    "#plt.ylim(0.001,1)\n",
    "plt.grid(True)\n",
    "plt.legend(loc='lower left')\n",
    "plt.show()"
   ]
  },
  {
   "cell_type": "code",
   "execution_count": null,
   "id": "6e93c6bc",
   "metadata": {},
   "outputs": [],
   "source": []
  },
  {
   "cell_type": "code",
   "execution_count": null,
   "id": "d3daf92e",
   "metadata": {},
   "outputs": [],
   "source": []
  }
 ],
 "metadata": {
  "kernelspec": {
   "display_name": "Python 3 (ipykernel)",
   "language": "python",
   "name": "python3"
  },
  "language_info": {
   "codemirror_mode": {
    "name": "ipython",
    "version": 3
   },
   "file_extension": ".py",
   "mimetype": "text/x-python",
   "name": "python",
   "nbconvert_exporter": "python",
   "pygments_lexer": "ipython3",
   "version": "3.7.3"
  }
 },
 "nbformat": 4,
 "nbformat_minor": 5
}
