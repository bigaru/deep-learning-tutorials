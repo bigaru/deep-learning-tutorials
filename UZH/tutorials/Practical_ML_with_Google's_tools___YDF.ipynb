{
  "nbformat": 4,
  "nbformat_minor": 0,
  "metadata": {
    "colab": {
      "provenance": []
    },
    "kernelspec": {
      "name": "python3",
      "display_name": "Python 3"
    },
    "language_info": {
      "name": "python"
    }
  },
  "cells": [
    {
      "cell_type": "markdown",
      "source": [
        "# Before you begin\n",
        "\n",
        "Please <font color='red'>**MAKE A COPY**</font> of this colab to make sure your progress is saved.\n",
        "\n"
      ],
      "metadata": {
        "id": "49ektInfg1Qr"
      }
    },
    {
      "cell_type": "markdown",
      "source": [
        "# Practical ML with YDF\n",
        "\n",
        "In this tutorial, we'll see how to use YDF to build (part of) an ML pipeline."
      ],
      "metadata": {
        "id": "1R8VoOSCZ3PQ"
      }
    },
    {
      "cell_type": "markdown",
      "source": [
        "## Introduction to YDF\n",
        "\n",
        "[YDF](https://github.com/google/yggdrasil-decision-forests) is a Python library to train, serve, interpret and productionize Decision Forest algorithms (such as Random Forests or Gradient Boosted Trees).\n",
        "\n",
        "The YDF Documentation is available at [ydf.readthedocs.io](https://ydf.readthedocs.io/en/latest/). Please make sure to use the documentation when working on this tutorial.\n",
        "\n",
        "**Note**: Chatbots tend to hallucinate when asked about YDF, which can make it painful to use them."
      ],
      "metadata": {
        "id": "Z5iAkJHfeTWm"
      }
    },
    {
      "cell_type": "code",
      "source": [
        "!pip install --quiet ydf"
      ],
      "metadata": {
        "id": "tNAXDykHeiYH"
      },
      "execution_count": null,
      "outputs": []
    },
    {
      "cell_type": "code",
      "source": [
        "# Load libraries\n",
        "import ydf  # Yggdrasil Decision Forests\n",
        "import pandas as pd  # We use Pandas to load small datasets\n",
        "\n",
        "# Download a classification dataset and load it as a Pandas DataFrame.\n",
        "ds_path = \"https://raw.githubusercontent.com/google/yggdrasil-decision-forests/main/yggdrasil_decision_forests/test_data/dataset\"\n",
        "train_ds = pd.read_csv(f\"{ds_path}/adult_train.csv\")\n",
        "test_ds = pd.read_csv(f\"{ds_path}/adult_test.csv\")\n",
        "\n",
        "# Print the first 5 training examples\n",
        "train_ds.head(5)"
      ],
      "metadata": {
        "id": "hD3ZwJWhepnj"
      },
      "execution_count": null,
      "outputs": []
    },
    {
      "cell_type": "markdown",
      "source": [
        "**Training models**\n",
        "\n",
        "As discussed in class, YDF distinguishes between a **model** and a **learner**.\n",
        "\n",
        "Let's create a GradientBoostedTrees learner and train a model on this dataset."
      ],
      "metadata": {
        "id": "yAUP0DBJf0iU"
      }
    },
    {
      "cell_type": "code",
      "source": [
        "learner = ydf.GradientBoostedTreesLearner(label=\"income\", task=ydf.Task.CLASSIFICATION)\n",
        "\n",
        "model = learner.train(train_ds)"
      ],
      "metadata": {
        "id": "dyPJUqVqgjfn"
      },
      "execution_count": null,
      "outputs": []
    },
    {
      "cell_type": "code",
      "source": [
        "model.describe()"
      ],
      "metadata": {
        "id": "FQj-Ga9nk3FJ"
      },
      "execution_count": null,
      "outputs": []
    },
    {
      "cell_type": "code",
      "source": [
        "evaluation = model.evaluate(test_ds)\n",
        "auc = evaluation.characteristics[0].auc  # Just the value of the AUC\n",
        "evaluation  # Interactive report"
      ],
      "metadata": {
        "id": "ISCpIHNkiWvb"
      },
      "execution_count": null,
      "outputs": []
    },
    {
      "cell_type": "code",
      "source": [
        "analysis = model.analyze(test_ds)  # This might take a few seconds\n",
        "analysis.variable_importances()['MEAN_DECREASE_IN_AUC_>50K_VS_OTHERS']  # Just one of the variable importances\n",
        "analysis  # Interactive report"
      ],
      "metadata": {
        "id": "yPM-5WvTie9f"
      },
      "execution_count": null,
      "outputs": []
    },
    {
      "cell_type": "markdown",
      "source": [
        "## Feature Selection\n",
        "\n",
        "In a dataset with many features, only using a subset of features in production may be useful for a number of reasons:\n",
        "*   Features may be hard or expensive to acquire\n",
        "*   The model quality might improve (why?)\n",
        "*   Model size or inference speed might improve"
      ],
      "metadata": {
        "id": "EXBjX9fgaMyr"
      }
    },
    {
      "cell_type": "markdown",
      "source": [
        "### Exercise\n",
        "\n",
        "In this exercise, we implement an algorithm that finds (heuristically) a good set of 4 features for this dataset, measured in AUC.\n",
        "\n",
        "### Make sure to...\n",
        "*   Not use the test data during your algorithm\n",
        "*   Be efficient. Trying out all combinations of features is too slow. Design an iterative (heuristic) approach\n",
        "*   Use the variable importances YDF provides (see above)"
      ],
      "metadata": {
        "id": "vr78Csw3ifLt"
      }
    },
    {
      "cell_type": "code",
      "source": [
        "def feature_selection(ds, num_features=4):\n",
        "  # Your code here!\n",
        "  # Should return the model trained with the 4 features you chose\n",
        "  ..."
      ],
      "metadata": {
        "id": "I8ENGsefkw6b"
      },
      "execution_count": null,
      "outputs": []
    },
    {
      "cell_type": "code",
      "source": [
        "pruned_model = feature_selection(train_ds)"
      ],
      "metadata": {
        "id": "IodZILnwaSh1"
      },
      "execution_count": null,
      "outputs": []
    },
    {
      "cell_type": "code",
      "source": [
        "features_after_pruning = [x.name for x in pruned_model.input_features()]\n",
        "print(f\"The better model has features {features_after_pruning}\")"
      ],
      "metadata": {
        "id": "SZ2B_XaJfd4d"
      },
      "execution_count": null,
      "outputs": []
    },
    {
      "cell_type": "code",
      "source": [
        "pruned_model_eval = pruned_model.evaluate(test_ds)\n",
        "full_auc = evaluation.characteristics[0].auc\n",
        "pruned_auc = pruned_model_eval.characteristics[0].auc\n",
        "print(f\"The AUC of the full model is {full_auc}, the AUC of the pruned model is {pruned_auc}\")\n",
        "print(f\"The loss of quality is {(1-pruned_auc/full_auc)*100:.2f}%\")"
      ],
      "metadata": {
        "id": "PeADdTSfaVCc"
      },
      "execution_count": null,
      "outputs": []
    }
  ]
}