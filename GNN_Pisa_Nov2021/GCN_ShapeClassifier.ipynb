{
 "cells": [
  {
   "cell_type": "markdown",
   "id": "34062ca4",
   "metadata": {},
   "source": [
    "# Tutorial on GraphNN\n",
    "\n",
    "We try to build a GraphNN that recognize if an image contains a rectangle or a circle, representing the image as a point cloud"
   ]
  },
  {
   "cell_type": "code",
   "execution_count": null,
   "id": "42e54b61",
   "metadata": {},
   "outputs": [],
   "source": [
    "#from https://github.com/vermaMachineLearning/keras-deep-graph-learning.git\n",
    "import tensorflow.keras.backend as K\n",
    "import tensorflow as tf\n",
    "\n",
    "\n",
    "def graph_conv_op(x, num_filters, graph_conv_filters, kernel):\n",
    "\n",
    "    if len(x.get_shape()) == 2:\n",
    "        conv_op = K.dot(graph_conv_filters, x)\n",
    "        conv_op = tf.split(conv_op, num_filters, axis=0)\n",
    "        conv_op = K.concatenate(conv_op, axis=1)\n",
    "    elif len(x.get_shape()) == 3:\n",
    "        conv_op = K.batch_dot(graph_conv_filters, x)\n",
    "        conv_op = tf.split(conv_op, num_filters, axis=1)\n",
    "        conv_op = K.concatenate(conv_op, axis=2)\n",
    "    else:\n",
    "        raise ValueError('x must be either 2 or 3 dimension tensor'\n",
    "                         'Got input shape: ' + str(x.get_shape()))\n",
    "\n",
    "    conv_out = K.dot(conv_op, kernel)\n",
    "    return conv_out\n",
    "\n",
    "from tensorflow.keras import activations, initializers, constraints\n",
    "from tensorflow.keras import regularizers\n",
    "import tensorflow.keras.backend as K\n",
    "from tensorflow.keras.layers import Layer\n",
    "import tensorflow as tf\n",
    "\n",
    "class MultiGraphCNN(Layer):\n",
    "\n",
    "    def __init__(self,\n",
    "                 output_dim,\n",
    "                 num_filters,\n",
    "                 activation=None,\n",
    "                 use_bias=True,\n",
    "                 kernel_initializer='glorot_uniform',\n",
    "                 bias_initializer='zeros',\n",
    "                 kernel_regularizer=None,\n",
    "                 bias_regularizer=None,\n",
    "                 activity_regularizer=None,\n",
    "                 kernel_constraint=None,\n",
    "                 bias_constraint=None,\n",
    "                 **kwargs):\n",
    "        super(MultiGraphCNN, self).__init__(**kwargs)\n",
    "\n",
    "        self.output_dim = output_dim\n",
    "        self.num_filters = num_filters\n",
    "\n",
    "        self.activation = activations.get(activation)\n",
    "        self.use_bias = use_bias\n",
    "        self.kernel_initializer = initializers.get(kernel_initializer)\n",
    "        self.kernel_initializer.__name__ = kernel_initializer\n",
    "        self.bias_initializer = initializers.get(bias_initializer)\n",
    "        self.kernel_regularizer = regularizers.get(kernel_regularizer)\n",
    "        self.bias_regularizer = regularizers.get(bias_regularizer)\n",
    "        self.activity_regularizer = regularizers.get(activity_regularizer)\n",
    "        self.kernel_constraint = constraints.get(kernel_constraint)\n",
    "        self.bias_constraint = constraints.get(bias_constraint)\n",
    "\n",
    "    def build(self, input_shape):\n",
    "\n",
    "        if self.num_filters != int(input_shape[1][-2]/input_shape[1][-1]):\n",
    "            raise ValueError('num_filters does not match with graph_conv_filters dimensions.')\n",
    "\n",
    "        self.input_dim = input_shape[0][-1]\n",
    "        kernel_shape = (self.num_filters * self.input_dim, self.output_dim)\n",
    "\n",
    "        self.kernel = self.add_weight(shape=kernel_shape,\n",
    "                                      initializer=self.kernel_initializer,\n",
    "                                      name='kernel',\n",
    "                                      regularizer=self.kernel_regularizer,\n",
    "                                      constraint=self.kernel_constraint)\n",
    "        if self.use_bias:\n",
    "            self.bias = self.add_weight(shape=(self.output_dim,),\n",
    "                                        initializer=self.bias_initializer,\n",
    "                                        name='bias',\n",
    "                                        regularizer=self.bias_regularizer,\n",
    "                                        constraint=self.bias_constraint)\n",
    "        else:\n",
    "            self.bias = None\n",
    "\n",
    "        self.built = True\n",
    "\n",
    "    def call(self, inputs):\n",
    "\n",
    "        output = graph_conv_op(inputs[0], self.num_filters, inputs[1], self.kernel)\n",
    "        if self.use_bias:\n",
    "            output = K.bias_add(output, self.bias)\n",
    "        if self.activation is not None:\n",
    "            output = self.activation(output)\n",
    "        return output\n",
    "\n",
    "    def compute_output_shape(self, input_shape):\n",
    "        output_shape = (input_shape[0][0], input_shape[0][1], self.output_dim)\n",
    "        return output_shape\n",
    "\n",
    "    def get_config(self):\n",
    "        config = {\n",
    "            'output_dim': self.output_dim,\n",
    "            'num_filters': self.num_filters,\n",
    "            'activation': activations.serialize(self.activation),\n",
    "            'use_bias': self.use_bias,\n",
    "            'kernel_initializer': initializers.serialize(self.kernel_initializer),\n",
    "            'bias_initializer': initializers.serialize(self.bias_initializer),\n",
    "            'kernel_regularizer': regularizers.serialize(self.kernel_regularizer),\n",
    "            'bias_regularizer': regularizers.serialize(self.bias_regularizer),\n",
    "            'activity_regularizer': regularizers.serialize(self.activity_regularizer),\n",
    "            'kernel_constraint': constraints.serialize(self.kernel_constraint),\n",
    "            'bias_constraint': constraints.serialize(self.bias_constraint)\n",
    "        }\n",
    "        base_config = super(MultiGraphCNN, self).get_config()\n",
    "        return dict(list(base_config.items()) + list(config.items()))"
   ]
  },
  {
   "cell_type": "markdown",
   "id": "49062a7f",
   "metadata": {},
   "source": [
    "## Import useful stuff"
   ]
  },
  {
   "cell_type": "code",
   "execution_count": null,
   "id": "fe7f9f82",
   "metadata": {},
   "outputs": [],
   "source": [
    "import numpy as np\n",
    "from math import *\n",
    "from matplotlib import pyplot as plt \n",
    "#device_name = tf.test.gpu_device_name()\n",
    "#print(device_name)"
   ]
  },
  {
   "cell_type": "markdown",
   "id": "ef16883a",
   "metadata": {},
   "source": [
    "# Load the dataset"
   ]
  },
  {
   "cell_type": "code",
   "execution_count": null,
   "id": "412062c6",
   "metadata": {},
   "outputs": [],
   "source": [
    "!git clone https://github.com/pierinim/tutorials.git\n",
    "!mv tutorials/GNN_Pisa_Nov2021/data ."
   ]
  },
  {
   "cell_type": "code",
   "execution_count": null,
   "id": "71290d8e",
   "metadata": {},
   "outputs": [],
   "source": [
    "# load one file\n",
    "import h5py\n",
    "f = h5py.File(\"data/ShapeClassifier_Circle0.9_Noise0.3.h5\", \"r\")\n",
    "#f = h5py.File(\"data/ShapeClassifier_Circle0.9_Rectangle0.7.h5\", \"r\")\n",
    "X_train = np.array(f.get(\"X_train\"))\n",
    "X_test = np.array(f.get(\"X_test\"))\n",
    "Y_train = np.array(f.get(\"Y_train\"))\n",
    "Y_test = np.array(f.get(\"Y_test\"))\n",
    "A_train = np.array(f.get(\"A_train\"))\n",
    "A_test = np.array(f.get(\"A_test\"))\n",
    "f.close()    "
   ]
  },
  {
   "cell_type": "code",
   "execution_count": null,
   "id": "0b9fcdfa",
   "metadata": {},
   "outputs": [],
   "source": [
    "print(X_train.shape, X_test.shape)\n",
    "print(Y_train.shape, Y_test.shape)\n",
    "print(A_train.shape, A_test.shape)"
   ]
  },
  {
   "cell_type": "markdown",
   "id": "d547feaa",
   "metadata": {},
   "source": [
    "# Now we define the Classifier\n",
    "We use an implementation of Graph Convolutional Layers, distributed with\n",
    "https://vermamachinelearning.github.io/keras-deep-graph-learning/"
   ]
  },
  {
   "cell_type": "code",
   "execution_count": null,
   "id": "6120070b",
   "metadata": {
    "scrolled": true
   },
   "outputs": [],
   "source": [
    "import tensorflow.keras.backend as K\n",
    "import tensorflow as tf\n",
    "from tensorflow.keras.layers import Input,Dense,Dropout,Flatten,Reshape\n",
    "from tensorflow.keras.models import Model, Sequential\n",
    "from tensorflow.keras.optimizers import Adam\n",
    "NUM_FILTERS = 1\n",
    "graph_conv_filters = A_train \n",
    "graph_conv_filters = K.constant(graph_conv_filters)\n",
    "    \n",
    "X_input = Input(shape=(X_train.shape[1], X_train.shape[2]))\n",
    "graph_conv_filters_input = Input(shape=(graph_conv_filters.shape[1], graph_conv_filters.shape[2]))\n",
    "    \n",
    "hidden =  MultiGraphCNN(2, NUM_FILTERS, activation='relu')([X_input,graph_conv_filters_input])\n",
    "hidden = Dropout(0.3)(hidden)\n",
    "hidden =  MultiGraphCNN(1, NUM_FILTERS, activation='relu')([hidden,graph_conv_filters_input])\n",
    "hidden = Dropout(0.3)(hidden)\n",
    "hidden = Flatten()(hidden)\n",
    "output = Dense(1, activation='sigmoid')(hidden)\n",
    "loss=\"binary_crossentropy\"\n",
    "model = Model(inputs=[X_input,graph_conv_filters_input], outputs=output)\n",
    "model.summary()\n",
    "opt = Adam(learning_rate=0.0001)\n",
    "model.compile(loss=loss, optimizer=opt,metrics=['accuracy'])"
   ]
  },
  {
   "cell_type": "code",
   "execution_count": null,
   "id": "d0ccedb5",
   "metadata": {},
   "outputs": [],
   "source": [
    "history = model.fit([X_train, graph_conv_filters],Y_train,validation_split=0.3, batch_size=16, epochs=200, verbose=1)"
   ]
  },
  {
   "cell_type": "code",
   "execution_count": null,
   "id": "7f42c735",
   "metadata": {},
   "outputs": [],
   "source": [
    "print(history.history.keys())\n",
    "plt.plot(history.history[\"val_loss\"], label=\"Validation Loss\")\n",
    "plt.plot(history.history[\"loss\"], label=\"Training Loss\")\n",
    "plt.yscale('log')\n",
    "plt.legend(loc='lower right')\n",
    "plt.show()"
   ]
  },
  {
   "cell_type": "code",
   "execution_count": null,
   "id": "5272e772",
   "metadata": {},
   "outputs": [],
   "source": [
    "from sklearn.metrics import roc_curve, auc\n",
    "\n",
    "graph_conv_filters = A_test \n",
    "graph_conv_filters = K.constant(graph_conv_filters)\n",
    "Y_pred = model.predict([X_test, graph_conv_filters])\n",
    "\n",
    "nn_fpr_keras, nn_tpr_keras, nn_thresholds_keras = roc_curve(Y_test, Y_pred)\n",
    "auc_keras = auc(nn_fpr_keras, nn_tpr_keras)\n",
    "plt.plot(nn_fpr_keras, nn_tpr_keras, label='Neural Network (auc = %0.3f)' % auc_keras)\n",
    "plt.ylabel(\"TPR\")\n",
    "plt.xlabel(\"FPR\")\n",
    "plt.ylim(0.001,1)\n",
    "plt.grid(True)\n",
    "plt.legend(loc='lower right')\n",
    "plt.show()"
   ]
  },
  {
   "cell_type": "code",
   "execution_count": null,
   "id": "082b6768",
   "metadata": {},
   "outputs": [],
   "source": []
  },
  {
   "cell_type": "code",
   "execution_count": null,
   "id": "ab4f3584",
   "metadata": {},
   "outputs": [],
   "source": []
  }
 ],
 "metadata": {
  "kernelspec": {
   "display_name": "Python 3 (ipykernel)",
   "language": "python",
   "name": "python3"
  },
  "language_info": {
   "codemirror_mode": {
    "name": "ipython",
    "version": 3
   },
   "file_extension": ".py",
   "mimetype": "text/x-python",
   "name": "python",
   "nbconvert_exporter": "python",
   "pygments_lexer": "ipython3",
   "version": "3.7.3"
  }
 },
 "nbformat": 4,
 "nbformat_minor": 5
}
